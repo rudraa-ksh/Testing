{
 "cells": [
  {
   "cell_type": "code",
   "execution_count": 1,
   "id": "1dc5d8b9",
   "metadata": {},
   "outputs": [
    {
     "name": "stdout",
     "output_type": "stream",
     "text": [
      "Shrinu\n"
     ]
    }
   ],
   "source": [
    "print(\"Shrinu\")"
   ]
  },
  {
   "cell_type": "code",
   "execution_count": 2,
   "id": "4dabd1ee",
   "metadata": {},
   "outputs": [
    {
     "name": "stdout",
     "output_type": "stream",
     "text": [
      "testing second commit in rudra\n"
     ]
    }
   ],
   "source": [
    "print(\"testing second commit in rudra\")"
   ]
  },
  {
   "cell_type": "code",
   "execution_count": null,
   "id": "20fa6042",
   "metadata": {},
   "outputs": [],
   "source": []
  }
 ],
 "metadata": {
  "kernelspec": {
   "display_name": "base",
   "language": "python",
   "name": "python3"
  },
  "language_info": {
   "codemirror_mode": {
    "name": "ipython",
    "version": 3
   },
   "file_extension": ".py",
   "mimetype": "text/x-python",
   "name": "python",
   "nbconvert_exporter": "python",
   "pygments_lexer": "ipython3",
   "version": "3.12.8"
  }
 },
 "nbformat": 4,
 "nbformat_minor": 5
}
